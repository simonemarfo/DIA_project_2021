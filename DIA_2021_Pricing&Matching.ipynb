{
 "cells": [
  {
   "cell_type": "markdown",
   "metadata": {},
   "source": [
    "# Pricing & Matching"
   ]
  },
  {
   "cell_type": "markdown",
   "metadata": {},
   "source": [
    "## Step 1"
   ]
  },
  {
   "cell_type": "markdown",
   "metadata": {},
   "source": [
    "Provide a mathematical formulation of the problem in the case in which the daily optimization is performed using the average number of customers per class. Provide an algorithm to find the optimal solution in the offline case in which all the parameters are known. Then, during the day when customers arrive, the shop uses a randomized approach to assure that a fraction of the customers of a given class gets a specified promo according to the optimal solution. For instance, at the optimal solution, a specific fraction of the customers of the first class gets P0, another fraction P1, and so on. These fractions will be used as probabilities during the day.\n"
   ]
  },
  {
   "cell_type": "markdown",
   "metadata": {},
   "source": [
    "### Solution Step 1\n",
    "\n",
    "**Assumption:** \n",
    "\n",
    "This is the mathematical formulation for the pure pricing problem of maximization of the total reward. We consider the production costs of both the item equals to zero.\n",
    "\n",
    "**Variables definition:**\n",
    "\n",
    "$i$ = class <br>\n",
    "$j$ = promo code -> {P0, P1, P2, P3} [%]<br>\n",
    "$p1$ = full price item 1  <br>\n",
    "$p2$ = full price item 2<br>\n",
    "$p2_j$ = price of item 2 when applied the promo j<br>\n",
    "$c1$ = production cost item 1 = 0<br>\n",
    "$c2$ = production cost item 2 = 0<br>\n",
    "$q1_i(p1)$ = conversion rate per class i for product 1 based on price p1<br>\n",
    "$q2_i(p2)$ = conversion rate per class i for product 2 based on price p2<br>\n",
    "$s_{ji}(p2)$ = discounted price of item 2, for class i based on promo j<br>\n",
    "$d_{ij}$ = amount of promo j distributed to class i<br>\n",
    "$maxd$ = max number of promos to distribute -> {#P1+#P2+#P3}<br>\n",
    "$avgCustomer_i$ = avg number of customers for class i<br>\n",
    "\n",
    "**Formulation of elaborated variables:**\n",
    "\n",
    "$p1 * q1_i(p1) * avgCustomer_i$ = revenue at price p for product 1 <br> \n",
    "$s_{ji}(p2) * q2_i(s_ji(p2)) * d_{ij} * avgCustomer_i$ = revenue for the couple promo-class for item2<br> \n",
    "$p1 * q1_i(p1) - c1 * q1_i(p1)) * avgCustomer_i$ = reward item 1<br> \n",
    "$s_{ji}(p2) * q2_i(s_{ji}(p2)) * d_{ij} - q2_i(s_{ji}(p2)) * c2) * avgCustomer_i$ = reward item 2<br> \n",
    "\n",
    "**Objective function:**\n",
    "\n",
    "$\\textrm {max} ( \\sum \\limits _{i = 0, j = 0} ^{i = 4, j = 4}[(p1*q1_i(p1) - c1*q1_i(p1) + s_{ji}(p2)*q2_i(s_{ji}(p2))*d_{ij} -  q2_i(s_{ji}(p2))*c2)*avgCustomer_i])$\n",
    "\n",
    "\n",
    "**Constraints:**\n",
    "\n",
    "$ \\textrm {for every j>0} : [\\sum \\limits _{i = 0} ^{i = 4} d_{ij}] = maxd $\n",
    "\n",
    "We have fixed the full prices of the two items: p1, p2. We retrieve the discounted prices of p2, applying the promos j, retrieving the vector p2_j.<br>\n",
    "We know: the average number of customers per class i (avgCustomer_i), the conversion rate for both products (q1_i(p1), q2_i(p2)) and the maximum number of promos to distribute (maxd).\n",
    "We are assuming that the production costs of the two items are zero (c1, c2= 0). \n",
    "It is possible to retrieve the total revenue for product 1 as the product between the price of the item 1, the conversion rate for the considered class and the average number of customers for that class:\n",
    "$(p1 * q1_i(p1) * avgCustomer_i)$.\n",
    "\n",
    "**ASSUMPTION:** \n",
    "\n",
    "Now, we consider the constraints of the shop to uses a randomized approach to assure that a fraction of the customers of a given class gets a specified promo according to the optimal solution.\n",
    "We achieve the solution of the problem using a matching approach. \n",
    "To reach the optimal solution we have used an iterative approach: we build a matrix class promotion containing the mean expected rewards for every couple, calculated as the conversion rate of the second item multiplied with its discounted price.\n",
    "We exploit this matrix to perform the matching between the customer classess and the promo types, in order to maximize the total reward. \n",
    "We select the best reward for every class, for 4 times, retrieving, at every iteration, the 4 combination promo-class and assigning an infinite weight to the obtained sub-optimal matching.\n",
    "Every matching is represented by a reward configuration that maximize the total reward. Every iteration is weighted and represent a different goodnesses of the solution, the first is the best, the last is the worst.\n",
    "Through the sub-optimal matchings, we have retrieved the fractions of different promos to assign to every customer class, based on the proportional weight of the previous sub-optimal matching.\n",
    "The proportions retrieved, are normalized class per class.\n",
    "\n",
    "|           |\n",
    "| PSEUDOCODE|\n",
    "|           |\n",
    "\n",
    "**SIMULATION OF A DAY:**\n",
    "\n",
    "We have fixed the full prices of the two items, the number of customers per class, the discounted prices and the conversione rate for both products.\n",
    "We retrieve the customers that buy the first item, and on them we apply the algorithm previous described, in order to obtain the fractions of promo to assign to every class.\n",
    "After that we can simulate a typical day, proposing to a customer, whose class is known, the item 2 propsed with the eventually discounted price based on the probability retrieved by the optimal solution.\n",
    "We compared the obtained rewards with other different strategy: always proposing no promo (P0), always proposing the highest promo (P3) and proposing the optimal solution (matching retrieved from the first iteration, which means is the best solution)\n",
    "\n",
    "\n",
    "\n"
   ]
  },
  {
   "cell_type": "code",
   "execution_count": null,
   "metadata": {},
   "outputs": [],
   "source": []
  }
 ],
 "metadata": {
  "kernelspec": {
   "display_name": "Python 3",
   "language": "python",
   "name": "python3"
  },
  "language_info": {
   "codemirror_mode": {
    "name": "ipython",
    "version": 3
   },
   "file_extension": ".py",
   "mimetype": "text/x-python",
   "name": "python",
   "nbconvert_exporter": "python",
   "pygments_lexer": "ipython3",
   "version": "3.8.3"
  }
 },
 "nbformat": 4,
 "nbformat_minor": 4
}
